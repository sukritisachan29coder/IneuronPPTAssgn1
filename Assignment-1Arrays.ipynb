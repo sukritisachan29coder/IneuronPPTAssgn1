{
 "cells": [
  {
   "cell_type": "markdown",
   "id": "61d1e8d4",
   "metadata": {},
   "source": [
    " Given an array of integers nums and an integer target, return indices of the two numbers such that they add up to target.\n",
    "\n",
    "You may assume that each input would have exactly one solution, and you may not use the same element twice.\n",
    "\n",
    "You can return the answer in any order.\n",
    "\n",
    "Input: nums = [2,7,11,15], target = 9\n",
    "Output0 [0,1]"
   ]
  },
  {
   "cell_type": "code",
   "execution_count": 90,
   "id": "e8e93e0d",
   "metadata": {},
   "outputs": [
    {
     "name": "stdout",
     "output_type": "stream",
     "text": [
      "Enter length4\n",
      "target?9\n",
      "2\n",
      "7\n",
      "11\n",
      "15\n",
      "[0, 1]\n"
     ]
    }
   ],
   "source": [
    "import logging\n",
    "logging.basicConfig(filename=\"testpandas.log\",level=logging.DEBUG,format='%(asctime)s %(levelname)s %(message)s')\n",
    "l=int(input(\"Enter length\"))\n",
    "res=[]\n",
    "nums=[]\n",
    "tar=int(input(\"target?\"))\n",
    "logging.info(\"Entering try block\")\n",
    "try:\n",
    "    def arr_tar(l,nums,tar):\n",
    "        nums=[]\n",
    "        logging.info(\"Taking the input for target\")\n",
    "        \n",
    "        logging.info(\"Taking input of list items\")\n",
    "        for i in range(0,l):\n",
    "            t=int(input())\n",
    "            nums.append(t)\n",
    "        for i in range(0,l):\n",
    "            for j in range(1,l):\n",
    "                if(nums[i]+nums[j]==tar):\n",
    "                    res.append(i)\n",
    "                    res.append(j)\n",
    "        if(len(res)==0):\n",
    "            print(-1,\"Not found\")\n",
    "        else:\n",
    "            print(res)\n",
    "        logging.info(\"Result obtained successfully\")\n",
    "except Exception as e:\n",
    "    logging.ERROR(\"Some error ocurred, please recheck code\")\n",
    "arr_tar(l,nums,tar)"
   ]
  },
  {
   "cell_type": "markdown",
   "id": "d5aa757c",
   "metadata": {},
   "source": [
    "<aside>\n",
    "💡 **Q2.** Given an integer array nums and an integer val, remove all occurrences of val in nums in-place. The order of the elements may be changed. Then return the number of elements in nums which are not equal to val.\n",
    "\n",
    "Consider the number of elements in nums which are not equal to val be k, to get accepted, you need to do the following things:\n",
    "\n",
    "- Change the array nums such that the first k elements of nums contain the elements which are not equal to val. The remaining elements of nums are not important as well as the size of nums.\n",
    "- Return k.\n",
    "\n",
    "**Example :**\n",
    "Input: nums = [3,2,2,3], val = 3\n",
    "Output: 2, nums = [2,2,_*,_*]\n",
    "\n",
    "**Explanation:** Your function should return k = 2, with the first two elements of nums being 2. It does not matter what you leave beyond the returned k (hence they are underscores)[\n",
    "\n",
    "</aside>"
   ]
  },
  {
   "cell_type": "code",
   "execution_count": 99,
   "id": "d067b6d9",
   "metadata": {},
   "outputs": [
    {
     "name": "stdout",
     "output_type": "stream",
     "text": [
      "Enter length 4\n",
      "2\n",
      "3\n",
      "3\n",
      "2\n",
      "Enter element to be removed 3\n",
      "3  had been removed, the final length is  2  and the modified list is  [2, 2]\n"
     ]
    },
    {
     "data": {
      "text/plain": [
       "2"
      ]
     },
     "execution_count": 99,
     "metadata": {},
     "output_type": "execute_result"
    }
   ],
   "source": [
    "import logging\n",
    "logging.basicConfig(filename=\"testpandas.log\",level=logging.DEBUG,format='%(asctime)s %(levelname)s %(message)s')\n",
    "logging.info(\"Entering try block\")\n",
    "try:\n",
    "    def rem_ele():\n",
    "        c=0\n",
    "        l=int(input(\"Enter length \"))\n",
    "        arr=[]\n",
    "        for i in range(0,l):\n",
    "            r=int(input())\n",
    "            arr.append(r)\n",
    "        rem=int(input(\"Enter element to be removed \"))\n",
    "        for i in range(0,l):\n",
    "            if(arr[i]==rem):\n",
    "                c=c+1\n",
    "        if rem not in arr:\n",
    "            print(rem,\" is not present in arr hence nothing is removed, the original length stays same as \",len(arr),arr)\n",
    "            logging.info(\"Result obtained successfully\")\n",
    "        else:\n",
    "            arr = [i for i in arr if i != rem]\n",
    "        print(rem,\" had been removed, the final length is \",len(arr),\" and the modified list is \",arr)\n",
    "        return c #value of k\n",
    "    logging.info(\"Result obtained successfully\")\n",
    "except Exception as e:\n",
    "    logging.ERROR(\"Some error ocurred, please recheck code\")\n",
    "rem_ele()            "
   ]
  },
  {
   "cell_type": "markdown",
   "id": "5eb7dd06",
   "metadata": {},
   "source": [
    "\n",
    "💡  Given a sorted array of distinct integers and a target value, return the index if the target is found. If not, return the index where it would be if it were inserted in order.\n",
    "\n",
    "You must write an algorithm with O(log n) runtime complexity.\n",
    "\n",
    "**Example 1:**\n",
    "Input: nums = [1,3,5,6], target = 5\n",
    "\n",
    "Output: 2\n",
    "\n"
   ]
  },
  {
   "cell_type": "code",
   "execution_count": 100,
   "id": "68645daa",
   "metadata": {},
   "outputs": [
    {
     "name": "stdout",
     "output_type": "stream",
     "text": [
      "Enter length 4\n",
      "1\n",
      "3\n",
      "5\n",
      "6\n",
      "Enter search element 5\n",
      "2\n"
     ]
    }
   ],
   "source": [
    "import logging\n",
    "logging.basicConfig(filename=\"testpandas.log\",level=logging.DEBUG,format='%(asctime)s %(levelname)s %(message)s')\n",
    "res=[]\n",
    "logging.info(\"Entering try block\")\n",
    "try:\n",
    "    def ins_ele(res):\n",
    "        l=int(input(\"Enter length \"))\n",
    "        for i in range(0,l):\n",
    "            t=int(input())\n",
    "            res.append(t)\n",
    "        e=int(input(\"Enter search element \"))\n",
    "        if e in res:\n",
    "            print(res.index(e))\n",
    "        else:\n",
    "            for i in range(1,len(res)-1):\n",
    "                if(e>res[i-1] and e<res[i]):\n",
    "                    print(\"Index for \",e,\" would be \",i)\n",
    "except Exception as e:\n",
    "    print(\"Some error ocurred, please recheck code\",e)\n",
    "ins_ele(res)"
   ]
  },
  {
   "cell_type": "markdown",
   "id": "fa3f43c1",
   "metadata": {},
   "source": [
    "\n",
    "💡 You are given a large integer represented as an integer array digits, where each digits[i] is the ith digit of the integer. The digits are ordered from most significant to least significant in left-to-right order. The large integer does not contain any leading 0's.\n",
    "\n",
    "Increment the large integer by one and return the resulting array of digits.\n",
    "\n",
    "**Example 1:**\n",
    "Input: digits = [1,2,3]\n",
    "Output: [1,2,4]\n",
    "\n",
    "**Explanation:** The array represents the integer 123.\n",
    "\n",
    "Incrementing by one gives 123 + 1 = 124.\n",
    "Thus, the result should be [1,2,4].\n"
   ]
  },
  {
   "cell_type": "code",
   "execution_count": 101,
   "id": "b9f46e67",
   "metadata": {},
   "outputs": [
    {
     "name": "stdout",
     "output_type": "stream",
     "text": [
      "Enter length 3\n",
      "1\n",
      "2\n",
      "3\n"
     ]
    },
    {
     "data": {
      "text/plain": [
       "[1, 2, 4]"
      ]
     },
     "execution_count": 101,
     "metadata": {},
     "output_type": "execute_result"
    }
   ],
   "source": [
    "import logging\n",
    "logging.basicConfig(filename=\"testpandas.log\",level=logging.DEBUG,format='%(asctime)s %(levelname)s %(message)s')\n",
    "res=[]\n",
    "logging.info(\"Entering try block\")\n",
    "try:\n",
    "    def app_ele(res):\n",
    "        l=int(input(\"Enter length \"))\n",
    "        for i in range(0,l):\n",
    "            t=int(input())\n",
    "            res.append(t)\n",
    "        res[l-1]=res[l-1]+1\n",
    "        return res\n",
    "except Exception as e:\n",
    "    logging.info('Some error occurred, please recheck code ',e)\n",
    "app_ele(res)"
   ]
  },
  {
   "cell_type": "markdown",
   "id": "bbaab2ec",
   "metadata": {},
   "source": [
    "<aside>\n",
    "💡 **Q5.** You are given two integer arrays nums1 and nums2, sorted in non-decreasing order, and two integers m and n, representing the number of elements in nums1 and nums2 respectively.\n",
    "\n",
    "Merge nums1 and nums2 into a single array sorted in non-decreasing order.\n",
    "\n",
    "The final sorted array should not be returned by the function, but instead be stored inside the array nums1. To accommodate this, nums1 has a length of m + n, where the first m elements denote the elements that should be merged, and the last n elements are set to 0 and should be ignored. nums2 has a length of n.\n",
    "\n",
    "**Example 1:**\n",
    "Input: nums1 = [1,2,3,0,0,0], m = 3, nums2 = [2,5,6], n = 3\n",
    "Output: [1,2,2,3,5,6]\n",
    "\n",
    "**Explanation:** The arrays we are merging are [1,2,3] and [2,5,6].\n",
    "The result of the merge is [1,2,2,3,5,6] with the underlined elements coming from nums1.\n",
    "\n",
    "</aside>"
   ]
  },
  {
   "cell_type": "code",
   "execution_count": 76,
   "id": "86d1582e",
   "metadata": {},
   "outputs": [
    {
     "name": "stdout",
     "output_type": "stream",
     "text": [
      "Enter length of first array 6\n",
      "Enter length of second array 3\n",
      "1\n",
      "2\n",
      "3\n",
      "[1, 2, 3, 0, 0, 0]\n",
      "4\n",
      "5\n",
      "6\n",
      "[1, 2, 3, 4, 5, 6]\n"
     ]
    }
   ],
   "source": [
    "import logging\n",
    "logging.basicConfig(filename=\"testpandas.log\",level=logging.DEBUG,format='%(asctime)s %(levelname)s %(message)s')\n",
    "res1=[]\n",
    "res2=[]\n",
    "logging.info(\"Entering try block\")\n",
    "try:\n",
    "    def merg_ele():\n",
    "        m=int(input(\"Enter length of first array \"))\n",
    "        n=int(input(\"Enter length of second array \"))\n",
    "        for i in range(0,m-n):\n",
    "            t=int(input())\n",
    "            res1.append(t)\n",
    "        for j in range(m+1,m+n+1):\n",
    "            res1.append(0)\n",
    "        print(res1)\n",
    "        for k in range(0,n):\n",
    "            p=int(input())\n",
    "            res2.append(p)\n",
    "        for i in range(m-n,m):\n",
    "            res1[i]=res2[n-m+i]\n",
    "        print(res1)\n",
    "except Exception as e:\n",
    "    logging.info('Some error occurred, please recheck code ',e)\n",
    "merg_ele()"
   ]
  },
  {
   "cell_type": "markdown",
   "id": "29069b93",
   "metadata": {},
   "source": [
    "\n",
    "💡 Given an integer array nums, return true if any value appears at least twice in the array, and return false if every element is distinct.\n",
    "\n",
    "**Example 1:**\n",
    "Input: nums = [1,2,3,1]\n",
    "\n",
    "Output: true\n",
    "\n"
   ]
  },
  {
   "cell_type": "code",
   "execution_count": 81,
   "id": "bb963477",
   "metadata": {},
   "outputs": [
    {
     "name": "stdout",
     "output_type": "stream",
     "text": [
      "Enter length 4\n",
      "Enter search element 1\n",
      "1\n",
      "2\n",
      "3\n",
      "1\n",
      "True\n"
     ]
    }
   ],
   "source": [
    "import logging\n",
    "logging.basicConfig(filename=\"testpandas.log\",level=logging.DEBUG,format='%(asctime)s %(levelname)s %(message)s')\n",
    "res=[]\n",
    "logging.info(\"Entering try block\")\n",
    "l=int(input(\"Enter length \"))\n",
    "e=int(input(\"Enter search element \"))\n",
    "try:\n",
    "    def ins_ele(l,e):\n",
    "        \n",
    "        for i in range(0,l):\n",
    "            t=int(input())\n",
    "            res.append(t)\n",
    "        for i in res:\n",
    "            \n",
    "            if e in res:\n",
    "                print(True)\n",
    "                break\n",
    "            else:\n",
    "                print(False)\n",
    "except Exception as e:\n",
    "    print(\"Some error ocurred, please recheck code\",e)\n",
    "ins_ele(l,e)"
   ]
  },
  {
   "cell_type": "markdown",
   "id": "4df7f25b",
   "metadata": {},
   "source": [
    "<aside>\n",
    "💡 **Q7.** Given an integer array nums, move all 0's to the end of it while maintaining the relative order of the nonzero elements.\n",
    "\n",
    "Note that you must do this in-place without making a copy of the array.\n",
    "\n",
    "**Example 1:**\n",
    "Input: nums = [0,1,0,3,12]\n",
    "Output: [1,3,12,0,0]\n",
    "\n",
    "</aside>"
   ]
  },
  {
   "cell_type": "code",
   "execution_count": 95,
   "id": "c6861fc8",
   "metadata": {},
   "outputs": [
    {
     "name": "stdout",
     "output_type": "stream",
     "text": [
      "Enter length 5\n",
      "0\n",
      "1\n",
      "0\n",
      "3\n",
      "12\n"
     ]
    },
    {
     "data": {
      "text/plain": [
       "[1, 3, 12, 0, 0]"
      ]
     },
     "execution_count": 95,
     "metadata": {},
     "output_type": "execute_result"
    }
   ],
   "source": [
    "import logging\n",
    "logging.basicConfig(filename=\"testpandas.log\",level=logging.DEBUG,format='%(asctime)s %(levelname)s %(message)s')\n",
    "res=[]\n",
    "logging.info(\"Entering try block\")\n",
    "l=int(input(\"Enter length \"))\n",
    "\n",
    "try:\n",
    "    def shif_ele(l,e,res):\n",
    "        c=0\n",
    "        for i in range(0,l):\n",
    "            t=int(input())\n",
    "            res.append(t)\n",
    "        for i in res:\n",
    "            if i==0:\n",
    "                c=c+1 \n",
    "        res=[i for i in res if i!=0]\n",
    "        for j in range(0,c):\n",
    "            res.append(0)\n",
    "        return res\n",
    "except Exception as e:\n",
    "    print(\"Some error ocurred, please recheck code\",e)\n",
    "shif_ele(l,e,res)"
   ]
  },
  {
   "cell_type": "markdown",
   "id": "871011e5",
   "metadata": {},
   "source": [
    "<aside>\n",
    "💡 **Q8.** You have a set of integers s, which originally contains all the numbers from 1 to n. Unfortunately, due to some error, one of the numbers in s got duplicated to another number in the set, which results in repetition of one number and loss of another number.\n",
    "\n",
    "You are given an integer array nums representing the data status of this set after the error.\n",
    "\n",
    "Find the number that occurs twice and the number that is missing and return them in the form of an array.\n",
    "\n",
    "**Example 1:**\n",
    "Input: nums = [1,2,2,4]\n",
    "Output: [2,3]\n",
    "\n",
    "</aside>"
   ]
  },
  {
   "cell_type": "code",
   "execution_count": 98,
   "id": "2d4ebd1a",
   "metadata": {},
   "outputs": [
    {
     "name": "stdout",
     "output_type": "stream",
     "text": [
      "Enter length 4\n",
      "1\n",
      "2\n",
      "2\n",
      "4\n"
     ]
    },
    {
     "data": {
      "text/plain": [
       "[1, 2, 3, 4]"
      ]
     },
     "execution_count": 98,
     "metadata": {},
     "output_type": "execute_result"
    }
   ],
   "source": [
    "import logging\n",
    "logging.basicConfig(filename=\"testpandas.log\",level=logging.DEBUG,format='%(asctime)s %(levelname)s %(message)s')\n",
    "res=[]\n",
    "logging.info(\"Entering try block\")\n",
    "l=int(input(\"Enter length \"))\n",
    "\n",
    "try:\n",
    "    def chng_ele(l,e,res):\n",
    "        \n",
    "        for i in range(0,l):\n",
    "            t=int(input())\n",
    "            res.append(t)\n",
    "        for i in range(0,len(res)-1):\n",
    "            if(res[i]==res[i+1]):\n",
    "                res[i+1]=res[i+1]+1\n",
    "        return res\n",
    "            \n",
    "except Exception as e:\n",
    "    print(\"Some error ocurred, please recheck code\",e)\n",
    "chng_ele(l,e,res)"
   ]
  }
 ],
 "metadata": {
  "kernelspec": {
   "display_name": "Python 3 (ipykernel)",
   "language": "python",
   "name": "python3"
  },
  "language_info": {
   "codemirror_mode": {
    "name": "ipython",
    "version": 3
   },
   "file_extension": ".py",
   "mimetype": "text/x-python",
   "name": "python",
   "nbconvert_exporter": "python",
   "pygments_lexer": "ipython3",
   "version": "3.9.13"
  }
 },
 "nbformat": 4,
 "nbformat_minor": 5
}
